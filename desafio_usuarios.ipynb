{
 "cells": [
  {
   "cell_type": "code",
   "execution_count": 1,
   "metadata": {},
   "outputs": [],
   "source": [
    "import requests"
   ]
  },
  {
   "cell_type": "code",
   "execution_count": 11,
   "metadata": {},
   "outputs": [
    {
     "data": {
      "text/plain": [
       "<Response [200]>"
      ]
     },
     "execution_count": 11,
     "metadata": {},
     "output_type": "execute_result"
    }
   ],
   "source": [
    "r = requests.get('https://api.github.com/users/GuilhermeeCustodio')\n",
    "r"
   ]
  },
  {
   "cell_type": "code",
   "execution_count": 12,
   "metadata": {},
   "outputs": [
    {
     "data": {
      "text/plain": [
       "200"
      ]
     },
     "execution_count": 12,
     "metadata": {},
     "output_type": "execute_result"
    }
   ],
   "source": [
    "r.status_code"
   ]
  },
  {
   "cell_type": "code",
   "execution_count": 13,
   "metadata": {},
   "outputs": [
    {
     "data": {
      "text/plain": [
       "{'login': 'GuilhermeeCustodio',\n",
       " 'id': 114126541,\n",
       " 'node_id': 'U_kgDOBs1uzQ',\n",
       " 'avatar_url': 'https://avatars.githubusercontent.com/u/114126541?v=4',\n",
       " 'gravatar_id': '',\n",
       " 'url': 'https://api.github.com/users/GuilhermeeCustodio',\n",
       " 'html_url': 'https://github.com/GuilhermeeCustodio',\n",
       " 'followers_url': 'https://api.github.com/users/GuilhermeeCustodio/followers',\n",
       " 'following_url': 'https://api.github.com/users/GuilhermeeCustodio/following{/other_user}',\n",
       " 'gists_url': 'https://api.github.com/users/GuilhermeeCustodio/gists{/gist_id}',\n",
       " 'starred_url': 'https://api.github.com/users/GuilhermeeCustodio/starred{/owner}{/repo}',\n",
       " 'subscriptions_url': 'https://api.github.com/users/GuilhermeeCustodio/subscriptions',\n",
       " 'organizations_url': 'https://api.github.com/users/GuilhermeeCustodio/orgs',\n",
       " 'repos_url': 'https://api.github.com/users/GuilhermeeCustodio/repos',\n",
       " 'events_url': 'https://api.github.com/users/GuilhermeeCustodio/events{/privacy}',\n",
       " 'received_events_url': 'https://api.github.com/users/GuilhermeeCustodio/received_events',\n",
       " 'type': 'User',\n",
       " 'site_admin': False,\n",
       " 'name': 'Guilherme Custodio',\n",
       " 'company': None,\n",
       " 'blog': '',\n",
       " 'location': 'São Paulo',\n",
       " 'email': None,\n",
       " 'hireable': None,\n",
       " 'bio': 'Analista e Engenheiro de Dados\\r\\n',\n",
       " 'twitter_username': None,\n",
       " 'public_repos': 1,\n",
       " 'public_gists': 0,\n",
       " 'followers': 3,\n",
       " 'following': 4,\n",
       " 'created_at': '2022-09-22T03:30:19Z',\n",
       " 'updated_at': '2023-11-20T06:53:35Z'}"
      ]
     },
     "execution_count": 13,
     "metadata": {},
     "output_type": "execute_result"
    }
   ],
   "source": [
    "r.json()"
   ]
  },
  {
   "cell_type": "code",
   "execution_count": 14,
   "metadata": {},
   "outputs": [
    {
     "data": {
      "text/plain": [
       "'https://api.github.com/users/GuilhermeeCustodio'"
      ]
     },
     "execution_count": 14,
     "metadata": {},
     "output_type": "execute_result"
    }
   ],
   "source": [
    "r.url"
   ]
  },
  {
   "cell_type": "code",
   "execution_count": 17,
   "metadata": {},
   "outputs": [
    {
     "data": {
      "text/plain": [
       "'Guilherme Custodio'"
      ]
     },
     "execution_count": 17,
     "metadata": {},
     "output_type": "execute_result"
    }
   ],
   "source": [
    "r.json()['name']"
   ]
  },
  {
   "cell_type": "code",
   "execution_count": 18,
   "metadata": {},
   "outputs": [
    {
     "data": {
      "text/plain": [
       "'GuilhermeeCustodio'"
      ]
     },
     "execution_count": 18,
     "metadata": {},
     "output_type": "execute_result"
    }
   ],
   "source": [
    "r.json()['login']"
   ]
  },
  {
   "cell_type": "code",
   "execution_count": 19,
   "metadata": {},
   "outputs": [
    {
     "data": {
      "text/plain": [
       "1"
      ]
     },
     "execution_count": 19,
     "metadata": {},
     "output_type": "execute_result"
    }
   ],
   "source": [
    "r.json()['public_repos']"
   ]
  },
  {
   "cell_type": "code",
   "execution_count": 20,
   "metadata": {},
   "outputs": [
    {
     "data": {
      "text/plain": [
       "'2022-09-22T03:30:19Z'"
      ]
     },
     "execution_count": 20,
     "metadata": {},
     "output_type": "execute_result"
    }
   ],
   "source": [
    "r.json()['created_at']"
   ]
  },
  {
   "cell_type": "code",
   "execution_count": 22,
   "metadata": {},
   "outputs": [
    {
     "data": {
      "text/plain": [
       "'Analista e Engenheiro de Dados\\r\\n'"
      ]
     },
     "execution_count": 22,
     "metadata": {},
     "output_type": "execute_result"
    }
   ],
   "source": [
    "r.json()['bio']"
   ]
  }
 ],
 "metadata": {
  "kernelspec": {
   "display_name": "Python 3",
   "language": "python",
   "name": "python3"
  },
  "language_info": {
   "codemirror_mode": {
    "name": "ipython",
    "version": 3
   },
   "file_extension": ".py",
   "mimetype": "text/x-python",
   "name": "python",
   "nbconvert_exporter": "python",
   "pygments_lexer": "ipython3",
   "version": "3.12.0"
  }
 },
 "nbformat": 4,
 "nbformat_minor": 2
}
